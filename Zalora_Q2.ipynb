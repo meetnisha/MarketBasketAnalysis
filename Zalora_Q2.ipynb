{
 "cells": [
  {
   "cell_type": "code",
   "execution_count": 503,
   "metadata": {},
   "outputs": [],
   "source": [
    "import matplotlib.pyplot as plt # plotting\n",
    "import numpy as np # linear algebra\n",
    "import os # accessing directory structure\n",
    "import pandas as pd # data processing, CSV file I/O (e.g. pd.read_csv)\n",
    "\n",
    "import nltk\n",
    "from nltk.stem import WordNetLemmatizer\n",
    "from nltk.tokenize import RegexpTokenizer\n",
    "from nltk import word_tokenize, pos_tag\n",
    "from nltk.corpus import stopwords"
   ]
  },
  {
   "cell_type": "code",
   "execution_count": 504,
   "metadata": {},
   "outputs": [
    {
     "name": "stdout",
     "output_type": "stream",
     "text": [
      "<class 'pandas.core.frame.DataFrame'>\n",
      "RangeIndex: 9994 entries, 0 to 9993\n",
      "Data columns (total 8 columns):\n",
      "RowID          9994 non-null int64\n",
      "OrderID        9994 non-null object\n",
      "OrderDate      9994 non-null object\n",
      "CustomerID     9994 non-null object\n",
      "ProductID      9994 non-null object\n",
      "ProductName    9994 non-null object\n",
      "Sales          9994 non-null float64\n",
      "Quantity       9994 non-null int64\n",
      "dtypes: float64(1), int64(2), object(5)\n",
      "memory usage: 624.7+ KB\n"
     ]
    }
   ],
   "source": [
    "retail = pd.read_csv('exercise2_input.csv', encoding = 'iso-8859-1')\n",
    "retail.info()"
   ]
  },
  {
   "cell_type": "code",
   "execution_count": 505,
   "metadata": {},
   "outputs": [
    {
     "name": "stdout",
     "output_type": "stream",
     "text": [
      "Data is healthy and does not have any missing data.\n"
     ]
    }
   ],
   "source": [
    "#Check for missing values\n",
    "def checking_na(df):\n",
    "    try:\n",
    "        if (isinstance(df, pd.DataFrame)):\n",
    "            df_na_bool = pd.concat([df.isnull().any(), df.isnull().sum(), (df.isnull().sum()/df.shape[0])*100],\n",
    "                                   axis=1, keys=['df_bool', 'df_amt', 'missing_ratio_percent'])\n",
    "            df_na_bool = df_na_bool.loc[df_na_bool['df_bool'] == True]\n",
    "            return df_na_bool\n",
    "        else:\n",
    "            print(\"{}: The input is not panda DataFrame\".format(now()))\n",
    "\n",
    "    except (UnboundLocalError, RuntimeError):\n",
    "        print(\"{}: Something is wrong\".format(now()))\n",
    "\n",
    "df = checking_na(retail)\n",
    "if df.empty:\n",
    "    print('Data is healthy and does not have any missing data.')\n",
    "else:\n",
    "    print(df)"
   ]
  },
  {
   "cell_type": "code",
   "execution_count": 506,
   "metadata": {},
   "outputs": [
    {
     "data": {
      "text/plain": [
       "RowID            int64\n",
       "OrderID         object\n",
       "OrderDate       object\n",
       "CustomerID      object\n",
       "ProductID       object\n",
       "ProductName     object\n",
       "Sales          float64\n",
       "Quantity         int64\n",
       "dtype: object"
      ]
     },
     "execution_count": 506,
     "metadata": {},
     "output_type": "execute_result"
    }
   ],
   "source": [
    "retail.dtypes"
   ]
  },
  {
   "cell_type": "code",
   "execution_count": 507,
   "metadata": {},
   "outputs": [
    {
     "name": "stdout",
     "output_type": "stream",
     "text": [
      "Dataframe dimensions: (9994, 8)\n"
     ]
    }
   ],
   "source": [
    "retail['OrderDate'] = pd.to_datetime(retail['OrderDate'])\n",
    "print('Dataframe dimensions:', retail.shape)"
   ]
  },
  {
   "cell_type": "code",
   "execution_count": 508,
   "metadata": {},
   "outputs": [
    {
     "data": {
      "text/html": [
       "<div>\n",
       "<style scoped>\n",
       "    .dataframe tbody tr th:only-of-type {\n",
       "        vertical-align: middle;\n",
       "    }\n",
       "\n",
       "    .dataframe tbody tr th {\n",
       "        vertical-align: top;\n",
       "    }\n",
       "\n",
       "    .dataframe thead th {\n",
       "        text-align: right;\n",
       "    }\n",
       "</style>\n",
       "<table border=\"1\" class=\"dataframe\">\n",
       "  <thead>\n",
       "    <tr style=\"text-align: right;\">\n",
       "      <th></th>\n",
       "      <th>RowID</th>\n",
       "      <th>OrderID</th>\n",
       "      <th>OrderDate</th>\n",
       "      <th>CustomerID</th>\n",
       "      <th>ProductID</th>\n",
       "      <th>ProductName</th>\n",
       "      <th>Sales</th>\n",
       "      <th>Quantity</th>\n",
       "    </tr>\n",
       "  </thead>\n",
       "  <tbody>\n",
       "    <tr>\n",
       "      <th>0</th>\n",
       "      <td>1</td>\n",
       "      <td>CA-2016-152156</td>\n",
       "      <td>2016-08-11</td>\n",
       "      <td>CG-12520</td>\n",
       "      <td>FUR-BO-10001798</td>\n",
       "      <td>Bush Somerset Collection Bookcase</td>\n",
       "      <td>261.9600</td>\n",
       "      <td>2</td>\n",
       "    </tr>\n",
       "    <tr>\n",
       "      <th>1</th>\n",
       "      <td>2</td>\n",
       "      <td>CA-2016-152156</td>\n",
       "      <td>2016-08-11</td>\n",
       "      <td>CG-12520</td>\n",
       "      <td>FUR-CH-10000454</td>\n",
       "      <td>Hon Deluxe Fabric Upholstered Stacking Chairs,...</td>\n",
       "      <td>731.9400</td>\n",
       "      <td>3</td>\n",
       "    </tr>\n",
       "    <tr>\n",
       "      <th>2</th>\n",
       "      <td>3</td>\n",
       "      <td>CA-2016-138688</td>\n",
       "      <td>2016-12-06</td>\n",
       "      <td>DV-13045</td>\n",
       "      <td>OFF-LA-10000240</td>\n",
       "      <td>Self-Adhesive Address Labels for Typewriters b...</td>\n",
       "      <td>14.6200</td>\n",
       "      <td>2</td>\n",
       "    </tr>\n",
       "    <tr>\n",
       "      <th>3</th>\n",
       "      <td>4</td>\n",
       "      <td>US-2015-108966</td>\n",
       "      <td>2015-11-10</td>\n",
       "      <td>SO-20335</td>\n",
       "      <td>FUR-TA-10000577</td>\n",
       "      <td>Bretford CR4500 Series Slim Rectangular Table</td>\n",
       "      <td>957.5775</td>\n",
       "      <td>5</td>\n",
       "    </tr>\n",
       "    <tr>\n",
       "      <th>4</th>\n",
       "      <td>5</td>\n",
       "      <td>US-2015-108966</td>\n",
       "      <td>2015-11-10</td>\n",
       "      <td>SO-20335</td>\n",
       "      <td>OFF-ST-10000760</td>\n",
       "      <td>Eldon Fold 'N Roll Cart System</td>\n",
       "      <td>22.3680</td>\n",
       "      <td>2</td>\n",
       "    </tr>\n",
       "  </tbody>\n",
       "</table>\n",
       "</div>"
      ],
      "text/plain": [
       "   RowID         OrderID  OrderDate CustomerID        ProductID  \\\n",
       "0      1  CA-2016-152156 2016-08-11   CG-12520  FUR-BO-10001798   \n",
       "1      2  CA-2016-152156 2016-08-11   CG-12520  FUR-CH-10000454   \n",
       "2      3  CA-2016-138688 2016-12-06   DV-13045  OFF-LA-10000240   \n",
       "3      4  US-2015-108966 2015-11-10   SO-20335  FUR-TA-10000577   \n",
       "4      5  US-2015-108966 2015-11-10   SO-20335  OFF-ST-10000760   \n",
       "\n",
       "                                         ProductName     Sales  Quantity  \n",
       "0                  Bush Somerset Collection Bookcase  261.9600         2  \n",
       "1  Hon Deluxe Fabric Upholstered Stacking Chairs,...  731.9400         3  \n",
       "2  Self-Adhesive Address Labels for Typewriters b...   14.6200         2  \n",
       "3      Bretford CR4500 Series Slim Rectangular Table  957.5775         5  \n",
       "4                     Eldon Fold 'N Roll Cart System   22.3680         2  "
      ]
     },
     "execution_count": 508,
     "metadata": {},
     "output_type": "execute_result"
    }
   ],
   "source": [
    "retail.head(5)"
   ]
  },
  {
   "cell_type": "code",
   "execution_count": 509,
   "metadata": {},
   "outputs": [],
   "source": [
    "retail = retail.drop(columns=['RowID']) #Drop RowId as its not necessary"
   ]
  },
  {
   "cell_type": "code",
   "execution_count": 510,
   "metadata": {},
   "outputs": [
    {
     "data": {
      "text/html": [
       "<div>\n",
       "<style scoped>\n",
       "    .dataframe tbody tr th:only-of-type {\n",
       "        vertical-align: middle;\n",
       "    }\n",
       "\n",
       "    .dataframe tbody tr th {\n",
       "        vertical-align: top;\n",
       "    }\n",
       "\n",
       "    .dataframe thead th {\n",
       "        text-align: right;\n",
       "    }\n",
       "</style>\n",
       "<table border=\"1\" class=\"dataframe\">\n",
       "  <thead>\n",
       "    <tr style=\"text-align: right;\">\n",
       "      <th></th>\n",
       "      <th>Sales</th>\n",
       "      <th>Quantity</th>\n",
       "    </tr>\n",
       "  </thead>\n",
       "  <tbody>\n",
       "    <tr>\n",
       "      <th>count</th>\n",
       "      <td>9994.000000</td>\n",
       "      <td>9994.000000</td>\n",
       "    </tr>\n",
       "    <tr>\n",
       "      <th>mean</th>\n",
       "      <td>229.858001</td>\n",
       "      <td>3.789574</td>\n",
       "    </tr>\n",
       "    <tr>\n",
       "      <th>std</th>\n",
       "      <td>623.245101</td>\n",
       "      <td>2.225110</td>\n",
       "    </tr>\n",
       "    <tr>\n",
       "      <th>min</th>\n",
       "      <td>0.444000</td>\n",
       "      <td>1.000000</td>\n",
       "    </tr>\n",
       "    <tr>\n",
       "      <th>25%</th>\n",
       "      <td>17.280000</td>\n",
       "      <td>2.000000</td>\n",
       "    </tr>\n",
       "    <tr>\n",
       "      <th>50%</th>\n",
       "      <td>54.490000</td>\n",
       "      <td>3.000000</td>\n",
       "    </tr>\n",
       "    <tr>\n",
       "      <th>75%</th>\n",
       "      <td>209.940000</td>\n",
       "      <td>5.000000</td>\n",
       "    </tr>\n",
       "    <tr>\n",
       "      <th>max</th>\n",
       "      <td>22638.480000</td>\n",
       "      <td>14.000000</td>\n",
       "    </tr>\n",
       "  </tbody>\n",
       "</table>\n",
       "</div>"
      ],
      "text/plain": [
       "              Sales     Quantity\n",
       "count   9994.000000  9994.000000\n",
       "mean     229.858001     3.789574\n",
       "std      623.245101     2.225110\n",
       "min        0.444000     1.000000\n",
       "25%       17.280000     2.000000\n",
       "50%       54.490000     3.000000\n",
       "75%      209.940000     5.000000\n",
       "max    22638.480000    14.000000"
      ]
     },
     "execution_count": 510,
     "metadata": {},
     "output_type": "execute_result"
    }
   ],
   "source": [
    "retail.describe() #only shows float and int columns"
   ]
  },
  {
   "cell_type": "code",
   "execution_count": 511,
   "metadata": {},
   "outputs": [
    {
     "name": "stdout",
     "output_type": "stream",
     "text": [
      "793\n",
      "1850\n"
     ]
    }
   ],
   "source": [
    "print(retail['CustomerID'].nunique()) #Unique Customers\n",
    "print(retail['ProductName'].nunique()) #Unique Product IDs out of a total order of 9994"
   ]
  },
  {
   "cell_type": "markdown",
   "metadata": {},
   "source": [
    "Check if there are any duplicate rows: \n",
    "For same order id if all the rows are duplicate, then it may be an incorrect order"
   ]
  },
  {
   "cell_type": "code",
   "execution_count": 512,
   "metadata": {},
   "outputs": [
    {
     "data": {
      "text/html": [
       "<div>\n",
       "<style scoped>\n",
       "    .dataframe tbody tr th:only-of-type {\n",
       "        vertical-align: middle;\n",
       "    }\n",
       "\n",
       "    .dataframe tbody tr th {\n",
       "        vertical-align: top;\n",
       "    }\n",
       "\n",
       "    .dataframe thead th {\n",
       "        text-align: right;\n",
       "    }\n",
       "</style>\n",
       "<table border=\"1\" class=\"dataframe\">\n",
       "  <thead>\n",
       "    <tr style=\"text-align: right;\">\n",
       "      <th></th>\n",
       "      <th>OrderID</th>\n",
       "      <th>OrderDate</th>\n",
       "      <th>CustomerID</th>\n",
       "      <th>ProductID</th>\n",
       "      <th>ProductName</th>\n",
       "      <th>Sales</th>\n",
       "      <th>Quantity</th>\n",
       "    </tr>\n",
       "  </thead>\n",
       "  <tbody>\n",
       "    <tr>\n",
       "      <th>3405</th>\n",
       "      <td>US-2014-150119</td>\n",
       "      <td>2014-04-23</td>\n",
       "      <td>LB-16795</td>\n",
       "      <td>FUR-CH-10002965</td>\n",
       "      <td>Global Leather Highback Executive Chair with P...</td>\n",
       "      <td>281.372</td>\n",
       "      <td>2</td>\n",
       "    </tr>\n",
       "    <tr>\n",
       "      <th>3406</th>\n",
       "      <td>US-2014-150119</td>\n",
       "      <td>2014-04-23</td>\n",
       "      <td>LB-16795</td>\n",
       "      <td>FUR-CH-10002965</td>\n",
       "      <td>Global Leather Highback Executive Chair with P...</td>\n",
       "      <td>281.372</td>\n",
       "      <td>2</td>\n",
       "    </tr>\n",
       "  </tbody>\n",
       "</table>\n",
       "</div>"
      ],
      "text/plain": [
       "             OrderID  OrderDate CustomerID        ProductID  \\\n",
       "3405  US-2014-150119 2014-04-23   LB-16795  FUR-CH-10002965   \n",
       "3406  US-2014-150119 2014-04-23   LB-16795  FUR-CH-10002965   \n",
       "\n",
       "                                            ProductName    Sales  Quantity  \n",
       "3405  Global Leather Highback Executive Chair with P...  281.372         2  \n",
       "3406  Global Leather Highback Executive Chair with P...  281.372         2  "
      ]
     },
     "execution_count": 512,
     "metadata": {},
     "output_type": "execute_result"
    }
   ],
   "source": [
    "duplicateRowsDF = retail[retail.duplicated(keep=False)]\n",
    "duplicateRowsDF"
   ]
  },
  {
   "cell_type": "markdown",
   "metadata": {},
   "source": [
    "Since there is one row which is duplicated, we can check the order details to know more about the order."
   ]
  },
  {
   "cell_type": "code",
   "execution_count": 513,
   "metadata": {},
   "outputs": [
    {
     "data": {
      "text/html": [
       "<div>\n",
       "<style scoped>\n",
       "    .dataframe tbody tr th:only-of-type {\n",
       "        vertical-align: middle;\n",
       "    }\n",
       "\n",
       "    .dataframe tbody tr th {\n",
       "        vertical-align: top;\n",
       "    }\n",
       "\n",
       "    .dataframe thead th {\n",
       "        text-align: right;\n",
       "    }\n",
       "</style>\n",
       "<table border=\"1\" class=\"dataframe\">\n",
       "  <thead>\n",
       "    <tr style=\"text-align: right;\">\n",
       "      <th></th>\n",
       "      <th>OrderID</th>\n",
       "      <th>OrderDate</th>\n",
       "      <th>CustomerID</th>\n",
       "      <th>ProductID</th>\n",
       "      <th>ProductName</th>\n",
       "      <th>Sales</th>\n",
       "      <th>Quantity</th>\n",
       "    </tr>\n",
       "  </thead>\n",
       "  <tbody>\n",
       "    <tr>\n",
       "      <th>3405</th>\n",
       "      <td>US-2014-150119</td>\n",
       "      <td>2014-04-23</td>\n",
       "      <td>LB-16795</td>\n",
       "      <td>FUR-CH-10002965</td>\n",
       "      <td>Global Leather Highback Executive Chair with P...</td>\n",
       "      <td>281.372</td>\n",
       "      <td>2</td>\n",
       "    </tr>\n",
       "    <tr>\n",
       "      <th>3406</th>\n",
       "      <td>US-2014-150119</td>\n",
       "      <td>2014-04-23</td>\n",
       "      <td>LB-16795</td>\n",
       "      <td>FUR-CH-10002965</td>\n",
       "      <td>Global Leather Highback Executive Chair with P...</td>\n",
       "      <td>281.372</td>\n",
       "      <td>2</td>\n",
       "    </tr>\n",
       "    <tr>\n",
       "      <th>3407</th>\n",
       "      <td>US-2014-150119</td>\n",
       "      <td>2014-04-23</td>\n",
       "      <td>LB-16795</td>\n",
       "      <td>OFF-BI-10000145</td>\n",
       "      <td>Zipper Ring Binder Pockets</td>\n",
       "      <td>7.488</td>\n",
       "      <td>8</td>\n",
       "    </tr>\n",
       "    <tr>\n",
       "      <th>3408</th>\n",
       "      <td>US-2014-150119</td>\n",
       "      <td>2014-04-23</td>\n",
       "      <td>LB-16795</td>\n",
       "      <td>FUR-FU-10002191</td>\n",
       "      <td>G.E. Halogen Desk Lamp Bulbs</td>\n",
       "      <td>22.336</td>\n",
       "      <td>4</td>\n",
       "    </tr>\n",
       "  </tbody>\n",
       "</table>\n",
       "</div>"
      ],
      "text/plain": [
       "             OrderID  OrderDate CustomerID        ProductID  \\\n",
       "3405  US-2014-150119 2014-04-23   LB-16795  FUR-CH-10002965   \n",
       "3406  US-2014-150119 2014-04-23   LB-16795  FUR-CH-10002965   \n",
       "3407  US-2014-150119 2014-04-23   LB-16795  OFF-BI-10000145   \n",
       "3408  US-2014-150119 2014-04-23   LB-16795  FUR-FU-10002191   \n",
       "\n",
       "                                            ProductName    Sales  Quantity  \n",
       "3405  Global Leather Highback Executive Chair with P...  281.372         2  \n",
       "3406  Global Leather Highback Executive Chair with P...  281.372         2  \n",
       "3407                         Zipper Ring Binder Pockets    7.488         8  \n",
       "3408                       G.E. Halogen Desk Lamp Bulbs   22.336         4  "
      ]
     },
     "execution_count": 513,
     "metadata": {},
     "output_type": "execute_result"
    }
   ],
   "source": [
    "retail[retail.OrderID.str.startswith('US-2014-150119')] "
   ]
  },
  {
   "cell_type": "markdown",
   "metadata": {},
   "source": [
    "The quanity of the product 'Global Leather Highback Executive Chair' should be 4 or it is a duplicated record. \n",
    "It looks like it is a duplicate record as the e-commerce system would have recognized that its the same product and should have added the quantity to 4 while creating the order. Hence I would drop the record. "
   ]
  },
  {
   "cell_type": "code",
   "execution_count": 514,
   "metadata": {},
   "outputs": [],
   "source": [
    "retail = retail.drop_duplicates(keep='first').reset_index()"
   ]
  },
  {
   "cell_type": "markdown",
   "metadata": {},
   "source": [
    "Check if there are any blank customers or zero or negative quantity, zero or negative price"
   ]
  },
  {
   "cell_type": "code",
   "execution_count": 515,
   "metadata": {},
   "outputs": [
    {
     "name": "stdout",
     "output_type": "stream",
     "text": [
      "Orders with blank customers: 0\n",
      "Orders that have zero or negative quantity: 0\n",
      "Orders that have zero or negative price: 0\n"
     ]
    }
   ],
   "source": [
    "#Orders with blank customers\n",
    "print('Orders with blank customers: ' + str(retail[retail['CustomerID'].isnull()].shape[0]))\n",
    "#Orders that have zero or negative quantity\n",
    "print('Orders that have zero or negative quantity: ' + str(retail[(retail['Quantity'] <= 0)].shape[0]))\n",
    "#Orders that have zero or negative price\n",
    "print('Orders that have zero or negative price: ' + str(retail[(retail['Sales'] <= 0)].shape[0]))"
   ]
  },
  {
   "cell_type": "code",
   "execution_count": 516,
   "metadata": {},
   "outputs": [
    {
     "name": "stdout",
     "output_type": "stream",
     "text": [
      "['FUR' 'OFF' 'TEC']\n",
      "['BO' 'CH' 'LA' 'TA' 'ST' 'FU' 'AR' 'PH' 'BI' 'AP' 'PA' 'AC' 'EN' 'FA'\n",
      " 'SU' 'MA' 'CO']\n"
     ]
    }
   ],
   "source": [
    "#Check the type of products since FUR, OFF and TEC are repeated which are the first 3 characters\n",
    "retail['ProductCategory'] = retail['ProductID'].str[:3] \n",
    "#Check the sub type of products since FUR, OFF and TEC are repeated which are the first 5th and 6th characters\n",
    "retail['ProductSubCategory'] = retail['ProductID'].str[4:6] \n",
    "print(retail.ProductCategory.unique())\n",
    "print(retail.ProductSubCategory.unique())"
   ]
  },
  {
   "cell_type": "code",
   "execution_count": 517,
   "metadata": {},
   "outputs": [
    {
     "data": {
      "text/plain": [
       "ProductCategory\n",
       "FUR                        [BO, CH, TA, FU]\n",
       "OFF    [LA, ST, AR, BI, AP, PA, EN, FA, SU]\n",
       "TEC                        [PH, AC, MA, CO]\n",
       "dtype: object"
      ]
     },
     "execution_count": 517,
     "metadata": {},
     "output_type": "execute_result"
    }
   ],
   "source": [
    "cat = retail.groupby('ProductCategory') #Group by Product Category and check the type of sub category it has\n",
    "subcat = cat.apply(lambda x: x['ProductSubCategory'].unique())\n",
    "subcat"
   ]
  },
  {
   "cell_type": "code",
   "execution_count": 518,
   "metadata": {},
   "outputs": [],
   "source": [
    "#for better understanding rename the values of Category\n",
    "retail = retail.replace({'ProductCategory' : { 'FUR' : 'FURNITURE', 'OFF' : 'OFFICE ACCESSORIES', 'TEC' : 'TECHNOLOGY' }})"
   ]
  },
  {
   "cell_type": "code",
   "execution_count": 519,
   "metadata": {},
   "outputs": [
    {
     "data": {
      "image/png": "[encoded data removed]",
      "text/plain": [
       "<Figure size 576x576 with 1 Axes>"
      ]
     },
     "metadata": {
      "needs_background": "light"
     },
     "output_type": "display_data"
    }
   ],
   "source": [
    "f, ax = plt.subplots(1, 1, figsize=(8, 8))\n",
    "retail.ProductCategory.value_counts().plot(kind='bar', title=\"Product Category\", ax=ax, figsize=(8,8))\n",
    "plt.show()"
   ]
  },
  {
   "cell_type": "markdown",
   "metadata": {},
   "source": [
    "Similarly, if we need to understand what are the different product subcategories, we can filter and understand from the product names"
   ]
  },
  {
   "cell_type": "code",
   "execution_count": 520,
   "metadata": {},
   "outputs": [
    {
     "name": "stdout",
     "output_type": "stream",
     "text": [
      "[(\"O'Sullivan\", 67), ('Finish', 66), ('Bookcases,', 64), ('Bookcases', 59), ('Collection', 58)]\n"
     ]
    }
   ],
   "source": [
    "from collections import Counter \n",
    "dfta = retail[retail.ProductSubCategory.str.contains('BO')]\n",
    "most_occur = Counter(\" \".join(dfta['ProductName']).split()).most_common(5)\n",
    "print(most_occur) # It appears that BO sub category means Book Cases"
   ]
  },
  {
   "cell_type": "code",
   "execution_count": 521,
   "metadata": {},
   "outputs": [
    {
     "data": {
      "image/png": "[encoded data removed]",
      "text/plain": [
       "<Figure size 432x288 with 1 Axes>"
      ]
     },
     "metadata": {
      "needs_background": "light"
     },
     "output_type": "display_data"
    }
   ],
   "source": [
    "ax = retail.groupby(['ProductCategory', 'ProductSubCategory']).size().plot(kind='bar')\n",
    "ax.set_title(\"# of Orders per Product Category and Sub Category\")\n",
    "ax.set_xlabel(\"(ProductCategory, ProductSubCategory)\")\n",
    "ax.set_ylabel(\"Count of Orders\")\n",
    "for p in ax.patches:\n",
    "    ax.annotate(str(format(int(p.get_height()), ',d')), (p.get_x(), p.get_height()*1))"
   ]
  },
  {
   "cell_type": "code",
   "execution_count": 522,
   "metadata": {},
   "outputs": [
    {
     "data": {
      "image/png": "[encoded data removed]",
      "text/plain": [
       "<Figure size 1800x504 with 1 Axes>"
      ]
     },
     "metadata": {
      "needs_background": "light"
     },
     "output_type": "display_data"
    }
   ],
   "source": [
    "SalesSum = retail.groupby([\"ProductName\"]).Sales.sum().sort_values(ascending = False)\n",
    "invSales = retail[[\"ProductName\", \"OrderID\"]].groupby([\"ProductName\"]).OrderID.unique().\\\n",
    "      agg(np.size).sort_values(ascending = False)\n",
    "fig = plt.figure(figsize=(25, 7))\n",
    "f1 = fig.add_subplot(121)\n",
    "Top10 = list(SalesSum[:10].index)\n",
    "PercentSales =  np.round((SalesSum[Top10].sum()/SalesSum.sum()) * 100, 2)\n",
    "PercentEvents = np.round((invSales[Top10].sum()/invSales.sum()) * 100, 2)\n",
    "g = SalesSum[Top10].\\\n",
    "    plot(kind='bar', title='Top 10 Products in Sales Amount: {:3.2f}% of Amount and {:3.2f}% of Events'.\\\n",
    "                       format(PercentSales, PercentEvents))"
   ]
  },
  {
   "cell_type": "code",
   "execution_count": 523,
   "metadata": {},
   "outputs": [
    {
     "data": {
      "image/png": "[encoded data removed]",
      "text/plain": [
       "<Figure size 1800x504 with 1 Axes>"
      ]
     },
     "metadata": {
      "needs_background": "light"
     },
     "output_type": "display_data"
    }
   ],
   "source": [
    "QtySum = retail.groupby([\"ProductName\"]).Quantity.sum().sort_values(ascending = False)\n",
    "invQty = retail[[\"ProductName\", \"OrderID\"]].groupby([\"ProductName\"]).OrderID.unique().\\\n",
    "      agg(np.size).sort_values(ascending = False)\n",
    "fig = plt.figure(figsize=(25, 7))\n",
    "Top10ev = list(invQty[:10].index)\n",
    "\n",
    "PercentSales =  np.round((QtySum[Top10ev].sum()/QtySum.sum()) * 100, 2)\n",
    "PercentEvents = np.round((invQty[Top10ev].sum()/invQty.sum()) * 100, 2)\n",
    "g = QtySum[Top10ev].sort_values(ascending = False).\\\n",
    "    plot(kind='bar', \n",
    "         title='Sales Amount of top 10 most sold products: {:3.2f}% of Amount and {:3.2f}% of Events'.\\\n",
    "         format(PercentSales, PercentEvents))"
   ]
  },
  {
   "cell_type": "markdown",
   "metadata": {},
   "source": [
    "# Clean and Generalize Product Names"
   ]
  },
  {
   "cell_type": "markdown",
   "metadata": {},
   "source": [
    "Initially, I used len(sample_text.split()) <= 2 as there are many products such as Newell 322, Avery 49 etc \n",
    "which if we parse using logic of POS tag to keep only Nouns, then we are left with blanks.\n",
    "I decided to use CD as well for products like Xerox which has many differnet products named 'Xerox <num>'\n",
    "\n",
    "\n",
    "New Update after doing Market Basket Analysis in SQL: I realized the need to generalize the product names some more.\n",
    "I decided to remove the numbers from the products like Newell 322, Avery 49 etc \n",
    "Hence I removed CD from products like Xerox which has many differnet products named 'Xerox <num>'"
   ]
  },
  {
   "cell_type": "code",
   "execution_count": 524,
   "metadata": {},
   "outputs": [],
   "source": [
    "# Do pre-processing: Tokenization, Lemmatization\n",
    "def nltk_process(sample_text):\n",
    "    #word tokenizer, but it includes the punctuation\n",
    "    #tokenizing words using RegexpTokenizer of nltk, which by default removes all punctuation.\n",
    "    tokenizer = RegexpTokenizer(r'\\w+')\n",
    "    tokenized = tokenizer.tokenize(sample_text)\n",
    "    #tokenized = word_tokenize(sample_text)    \n",
    "    stop_words = stopwords.words('english')\n",
    "    words = [word for word in tokenized if word not in stop_words]\n",
    "    #sent = ' '.join([w for w in words])\n",
    "    #converted each word to its root word using WordNetLemmatizer of nltk.\n",
    "    lemma = WordNetLemmatizer()\n",
    "    #lemma_words = ' '.join([lemma.lemmatize(w) for w in words]) #tokenized]) \n",
    "    #print(len(sample_text.split()))\n",
    "    pnames = ''\n",
    "    #pnames = ' '.join([w for w in word_tokenize(lemma_words)]) \n",
    "    #Get pos_tag of words and we are only interested in Nouns and numbers as there is certain products with numbers\n",
    "    for wd in words:\n",
    "        lemma_word = lemma.lemmatize(wd)\n",
    "        \n",
    "        t  = pos_tag(word_tokenize(lemma_word))\n",
    "        #print(t[0][1])\n",
    "        #for w, t in pos_tag(word_tokenize(lemma_words)):      \n",
    "        \n",
    "        if t[0][1] in ['NN','NNS', 'NNP', 'NNPS']: #len(sample_text.split()) <= 2 \n",
    "            pnames = pnames + lemma_word + ' ' \n",
    "\n",
    "    #print(pnames)\n",
    "    return pnames.strip()\n",
    "#nltk_process('Global Leather Highback Executive Chair with')"
   ]
  },
  {
   "cell_type": "code",
   "execution_count": 525,
   "metadata": {},
   "outputs": [],
   "source": [
    "retail['GenProductName'] = retail['ProductName'].apply(nltk_process)"
   ]
  },
  {
   "cell_type": "markdown",
   "metadata": {},
   "source": [
    "After verifying in SQL, I am able to generate the Market Basket Analysis.\n",
    "But with this where condition: Support >= 0.2 and Confidence >= 0.6 and Lift > 1 \n",
    "it doesnot return me results and hence I need to work more on generalizing the product names \n",
    "Next approach: Keep Top 5% of words most frquently used is another additional way to generalize product names"
   ]
  },
  {
   "cell_type": "code",
   "execution_count": 526,
   "metadata": {},
   "outputs": [
    {
     "data": {
      "text/plain": [
       "\"lst = pd.Series(' '.join(retail['ProductName']).lower().split()).value_counts()[:500]\\ndef keepcommonwords(sample):\\n    tokenizer = RegexpTokenizer(r'\\\\w+')\\n    tokenized = tokenizer.tokenize(sample)\\n    pnames = ''\\n    #print(tokenized)\\n    for word in tokenized:\\n        if word.lower() in lst:\\n            #print(word)\\n            pnames = pnames + word + ' '            \\n    if pnames == '':\\n        return sample.strip()\\n    else:\\n        return pnames.strip()\\nretail['GenProductName'] = retail['GenProductName'].apply(keepcommonwords)\\n#This didnot increase the support and I understood I need to generalise the product more\""
      ]
     },
     "execution_count": 526,
     "metadata": {},
     "output_type": "execute_result"
    }
   ],
   "source": [
    "#commenting the below approach I didnot use it in the final results\n",
    "'''lst = pd.Series(' '.join(retail['ProductName']).lower().split()).value_counts()[:500]\n",
    "def keepcommonwords(sample):\n",
    "    tokenizer = RegexpTokenizer(r'\\w+')\n",
    "    tokenized = tokenizer.tokenize(sample)\n",
    "    pnames = ''\n",
    "    #print(tokenized)\n",
    "    for word in tokenized:\n",
    "        if word.lower() in lst:\n",
    "            #print(word)\n",
    "            pnames = pnames + word + ' '            \n",
    "    if pnames == '':\n",
    "        return sample.strip()\n",
    "    else:\n",
    "        return pnames.strip()\n",
    "retail['GenProductName'] = retail['GenProductName'].apply(keepcommonwords)\n",
    "#This didnot increase the support and I understood I need to generalise the product more'''"
   ]
  },
  {
   "cell_type": "markdown",
   "metadata": {},
   "source": [
    "After verifying in SQL, I am able to generate the Market Basket Analysis.\n",
    "But with this where condition: Support >= 0.2 and Confidence >= 0.6 and Lift > 1 \n",
    "Hence another way to generalize the product name: As observed, the last 2 words signify more about the product, hence to generalise the products more. But without brands, the product becomes more common, hence I would keep the first word for brand and the last 2 words for product."
   ]
  },
  {
   "cell_type": "code",
   "execution_count": 527,
   "metadata": {},
   "outputs": [
    {
     "data": {
      "text/plain": [
       "\"def first1last2words(text):\\n    if len(text.split()) > 3:\\n        x = text.lower().split()\\n        s = len(x)\\n        text = x[0] + ' ' + x[s-2] + ' ' + x[s-1]\\n    return text\\nretail['GenProductName'] = retail['GenProductName'].apply(first1last2words)\""
      ]
     },
     "execution_count": 527,
     "metadata": {},
     "output_type": "execute_result"
    }
   ],
   "source": [
    "#commenting the below approach I didnot use it in the final results\n",
    "'''def first1last2words(text):\n",
    "    if len(text.split()) > 3:\n",
    "        x = text.lower().split()\n",
    "        s = len(x)\n",
    "        text = x[0] + ' ' + x[s-2] + ' ' + x[s-1]\n",
    "    return text\n",
    "retail['GenProductName'] = retail['GenProductName'].apply(first1last2words)'''"
   ]
  },
  {
   "cell_type": "markdown",
   "metadata": {},
   "source": [
    "After verifying in SQL, I am able to generate the Market Basket Analysis.\n",
    "But with this where condition: Support >= 0.2 and Confidence >= 0.6 and Lift > 1 \n",
    "Hence another way to generalize the product name: As observed, the last 2 words signify more about the product, hence to generalise the products more. I would remove the brand names and focus more on the last 2 words to get more details about the products"
   ]
  },
  {
   "cell_type": "code",
   "execution_count": 528,
   "metadata": {},
   "outputs": [
    {
     "data": {
      "text/plain": [
       "\"def last2words(text):\\n    if len(text.split()) > 2:\\n        x = text.lower().split()\\n        s = len(x)\\n        text = x[s-2] + ' ' + x[s-1]\\n    return text\\nretail['GenProductName'] = retail['GenProductName'].apply(last2words)\""
      ]
     },
     "execution_count": 528,
     "metadata": {},
     "output_type": "execute_result"
    }
   ],
   "source": [
    "#commenting the below approach I didnot use it in the final results\n",
    "'''def last2words(text):\n",
    "    if len(text.split()) > 2:\n",
    "        x = text.lower().split()\n",
    "        s = len(x)\n",
    "        text = x[s-2] + ' ' + x[s-1]\n",
    "    return text\n",
    "retail['GenProductName'] = retail['GenProductName'].apply(last2words)'''"
   ]
  },
  {
   "cell_type": "markdown",
   "metadata": {},
   "source": [
    "For Market Basket Analysis, bestseller products are the products with the highest number of orders).\n",
    "Hence we donot need the other columns. We can drop these columns - 'OrderDate','CustomerID','ProductID','Sales','Quantity'"
   ]
  },
  {
   "cell_type": "code",
   "execution_count": 529,
   "metadata": {},
   "outputs": [
    {
     "data": {
      "text/html": [
       "<div>\n",
       "<style scoped>\n",
       "    .dataframe tbody tr th:only-of-type {\n",
       "        vertical-align: middle;\n",
       "    }\n",
       "\n",
       "    .dataframe tbody tr th {\n",
       "        vertical-align: top;\n",
       "    }\n",
       "\n",
       "    .dataframe thead th {\n",
       "        text-align: right;\n",
       "    }\n",
       "</style>\n",
       "<table border=\"1\" class=\"dataframe\">\n",
       "  <thead>\n",
       "    <tr style=\"text-align: right;\">\n",
       "      <th></th>\n",
       "      <th>index</th>\n",
       "      <th>OrderID</th>\n",
       "      <th>OrderDate</th>\n",
       "      <th>CustomerID</th>\n",
       "      <th>ProductID</th>\n",
       "      <th>ProductName</th>\n",
       "      <th>Sales</th>\n",
       "      <th>Quantity</th>\n",
       "      <th>ProductCategory</th>\n",
       "      <th>ProductSubCategory</th>\n",
       "      <th>GenProductName</th>\n",
       "    </tr>\n",
       "  </thead>\n",
       "  <tbody>\n",
       "    <tr>\n",
       "      <th>0</th>\n",
       "      <td>0</td>\n",
       "      <td>CA-2016-152156</td>\n",
       "      <td>2016-08-11</td>\n",
       "      <td>CG-12520</td>\n",
       "      <td>FUR-BO-10001798</td>\n",
       "      <td>Bush Somerset Collection Bookcase</td>\n",
       "      <td>261.9600</td>\n",
       "      <td>2</td>\n",
       "      <td>FURNITURE</td>\n",
       "      <td>BO</td>\n",
       "      <td>Bush Somerset Collection Bookcase</td>\n",
       "    </tr>\n",
       "    <tr>\n",
       "      <th>1</th>\n",
       "      <td>1</td>\n",
       "      <td>CA-2016-152156</td>\n",
       "      <td>2016-08-11</td>\n",
       "      <td>CG-12520</td>\n",
       "      <td>FUR-CH-10000454</td>\n",
       "      <td>Hon Deluxe Fabric Upholstered Stacking Chairs,...</td>\n",
       "      <td>731.9400</td>\n",
       "      <td>3</td>\n",
       "      <td>FURNITURE</td>\n",
       "      <td>CH</td>\n",
       "      <td>Hon Deluxe Fabric Chairs</td>\n",
       "    </tr>\n",
       "    <tr>\n",
       "      <th>2</th>\n",
       "      <td>2</td>\n",
       "      <td>CA-2016-138688</td>\n",
       "      <td>2016-12-06</td>\n",
       "      <td>DV-13045</td>\n",
       "      <td>OFF-LA-10000240</td>\n",
       "      <td>Self-Adhesive Address Labels for Typewriters b...</td>\n",
       "      <td>14.6200</td>\n",
       "      <td>2</td>\n",
       "      <td>OFFICE ACCESSORIES</td>\n",
       "      <td>LA</td>\n",
       "      <td>Self Address Labels Typewriters Universal</td>\n",
       "    </tr>\n",
       "    <tr>\n",
       "      <th>3</th>\n",
       "      <td>3</td>\n",
       "      <td>US-2015-108966</td>\n",
       "      <td>2015-11-10</td>\n",
       "      <td>SO-20335</td>\n",
       "      <td>FUR-TA-10000577</td>\n",
       "      <td>Bretford CR4500 Series Slim Rectangular Table</td>\n",
       "      <td>957.5775</td>\n",
       "      <td>5</td>\n",
       "      <td>FURNITURE</td>\n",
       "      <td>TA</td>\n",
       "      <td>Bretford CR4500 Series Slim Table</td>\n",
       "    </tr>\n",
       "    <tr>\n",
       "      <th>4</th>\n",
       "      <td>4</td>\n",
       "      <td>US-2015-108966</td>\n",
       "      <td>2015-11-10</td>\n",
       "      <td>SO-20335</td>\n",
       "      <td>OFF-ST-10000760</td>\n",
       "      <td>Eldon Fold 'N Roll Cart System</td>\n",
       "      <td>22.3680</td>\n",
       "      <td>2</td>\n",
       "      <td>OFFICE ACCESSORIES</td>\n",
       "      <td>ST</td>\n",
       "      <td>Eldon Fold N Roll Cart System</td>\n",
       "    </tr>\n",
       "  </tbody>\n",
       "</table>\n",
       "</div>"
      ],
      "text/plain": [
       "   index         OrderID  OrderDate CustomerID        ProductID  \\\n",
       "0      0  CA-2016-152156 2016-08-11   CG-12520  FUR-BO-10001798   \n",
       "1      1  CA-2016-152156 2016-08-11   CG-12520  FUR-CH-10000454   \n",
       "2      2  CA-2016-138688 2016-12-06   DV-13045  OFF-LA-10000240   \n",
       "3      3  US-2015-108966 2015-11-10   SO-20335  FUR-TA-10000577   \n",
       "4      4  US-2015-108966 2015-11-10   SO-20335  OFF-ST-10000760   \n",
       "\n",
       "                                         ProductName     Sales  Quantity  \\\n",
       "0                  Bush Somerset Collection Bookcase  261.9600         2   \n",
       "1  Hon Deluxe Fabric Upholstered Stacking Chairs,...  731.9400         3   \n",
       "2  Self-Adhesive Address Labels for Typewriters b...   14.6200         2   \n",
       "3      Bretford CR4500 Series Slim Rectangular Table  957.5775         5   \n",
       "4                     Eldon Fold 'N Roll Cart System   22.3680         2   \n",
       "\n",
       "      ProductCategory ProductSubCategory  \\\n",
       "0           FURNITURE                 BO   \n",
       "1           FURNITURE                 CH   \n",
       "2  OFFICE ACCESSORIES                 LA   \n",
       "3           FURNITURE                 TA   \n",
       "4  OFFICE ACCESSORIES                 ST   \n",
       "\n",
       "                              GenProductName  \n",
       "0          Bush Somerset Collection Bookcase  \n",
       "1                   Hon Deluxe Fabric Chairs  \n",
       "2  Self Address Labels Typewriters Universal  \n",
       "3          Bretford CR4500 Series Slim Table  \n",
       "4              Eldon Fold N Roll Cart System  "
      ]
     },
     "execution_count": 529,
     "metadata": {},
     "output_type": "execute_result"
    }
   ],
   "source": [
    "retail.head()"
   ]
  },
  {
   "cell_type": "code",
   "execution_count": 530,
   "metadata": {},
   "outputs": [],
   "source": [
    "retail = retail.drop(columns=['index','OrderDate','CustomerID','ProductID','Sales','Quantity', 'ProductName','ProductCategory','ProductSubCategory'])"
   ]
  },
  {
   "cell_type": "markdown",
   "metadata": {},
   "source": [
    "Save the dataframe to a csv file to be imported to SQL Server"
   ]
  },
  {
   "cell_type": "code",
   "execution_count": 531,
   "metadata": {},
   "outputs": [],
   "source": [
    "export_csv = retail.to_csv (r'C:\\Users\\Monu\\Zalora\\basket.csv', index = None, header=True)"
   ]
  }
 ],
 "metadata": {
  "kernelspec": {
   "display_name": "Python 3",
   "language": "python",
   "name": "python3"
  },
  "language_info": {
   "codemirror_mode": {
    "name": "ipython",
    "version": 3
   },
   "file_extension": ".py",
   "mimetype": "text/x-python",
   "name": "python",
   "nbconvert_exporter": "python",
   "pygments_lexer": "ipython3",
   "version": "3.6.8"
  }
 },
 "nbformat": 4,
 "nbformat_minor": 2
}
